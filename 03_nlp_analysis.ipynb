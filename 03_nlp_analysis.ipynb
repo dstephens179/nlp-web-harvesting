{
 "cells": [
  {
   "attachments": {},
   "cell_type": "markdown",
   "metadata": {},
   "source": [
    "<h1><center>Web Harvesting & NLP Analysis with RSelenium & Gensim</center></h1>\n",
    "<h2><center>Uncovering Click-Bait in 2022's Most Popular Medium Posts in Data Science</center></h2>"
   ]
  },
  {
   "attachments": {},
   "cell_type": "markdown",
   "metadata": {},
   "source": [
    "What makes a title & subtitle so appealing to click? What are the buzzwords attract data scientists? <br>\n",
    "In this project I sought out answers to these questions, and more:\n",
    "- How does the title & subtitle differ from those above the mean applauds to those below the mean?\n",
    "- How many applauds does it take to make an article above average?\n",
    "- How many articles make up the top 80% of applauds?"
   ]
  },
  {
   "attachments": {},
   "cell_type": "markdown",
   "metadata": {},
   "source": [
    "***"
   ]
  },
  {
   "attachments": {},
   "cell_type": "markdown",
   "metadata": {},
   "source": [
    "<h2><center>Applying data science to data scientists</center></h2>\n",
    "\n",
    "Most data scientists analyze human behavior, which introduces a layer of psychology to our field. I've always loved analyzing reactions and how predictable we can be, even though we have free-will. This was a fun project, and I was surprised by some of the answers."
   ]
  },
  {
   "attachments": {},
   "cell_type": "markdown",
   "metadata": {},
   "source": [
    "<h3>Ethical Web-harvesting</h3>\n",
    "\n",
    "The web-harvesting was done in R with the RSelenium package. In order to avoid IP flagging and burdening the servers, harvesting the data was spread out over time. While this data is public, it's important to approach this topic ethically.\n",
    "\n",
    "<h3>R Code with RSelenium</h3>\n",
    "\n",
    "If you would like to see my R code, please see the rmd files in the link to [01_web_harvesting.Rmd](https://github.com/dstephens179/nlp-web-harvesting/blob/main/01_web_harvesting.Rmd). I mainly used RSelenium to automate the data harvesting through the xpath. Xpath allowed greater flexibility to harvest the data that was necessary.\n"
   ]
  },
  {
   "attachments": {},
   "cell_type": "markdown",
   "metadata": {},
   "source": [
    "\n",
    "<h3>Data Details</h3>\n",
    "\n",
    "- Data was harvested from medium.com archives with the tag \"data science\"\n",
    "- Articles between Jan 1, 2022 and Dec 31, 2022\n",
    "- Key information:\n",
    "  - Author\n",
    "  - Date\n",
    "  - Title\n",
    "  - Subtitle\n",
    "  - Claps received"
   ]
  },
  {
   "attachments": {},
   "cell_type": "markdown",
   "metadata": {},
   "source": [
    "<h4>Legal</h4>\n",
    "\n",
    "Medium's terms of use mentions web scraping twice:\n",
    "1. <b>Scraping</b> and reposting content from other sources for the primary purpose of generating revenue or other personal gains.\n",
    "2. You may not… interfere with, or disrupt, the access of any user, host, or network, including sending a virus, overloading, flooding, spamming, mail-bombing the Services, <b>scraping</b>, or by scripting the creation of content or accounts in such a manner as to interfere with or create an undue burden on the Services.\n",
    "\n",
    "This project is only for personal interest. Neither of the above apply."
   ]
  },
  {
   "attachments": {},
   "cell_type": "markdown",
   "metadata": {},
   "source": [
    "***"
   ]
  },
  {
   "attachments": {},
   "cell_type": "markdown",
   "metadata": {},
   "source": [
    "<h2><center>Load Data Cleaned in R</center></h2>"
   ]
  },
  {
   "cell_type": "code",
   "execution_count": 3,
   "metadata": {},
   "outputs": [
    {
     "data": {
      "text/html": [
       "<div>\n",
       "<style scoped>\n",
       "    .dataframe tbody tr th:only-of-type {\n",
       "        vertical-align: middle;\n",
       "    }\n",
       "\n",
       "    .dataframe tbody tr th {\n",
       "        vertical-align: top;\n",
       "    }\n",
       "\n",
       "    .dataframe thead th {\n",
       "        text-align: right;\n",
       "    }\n",
       "</style>\n",
       "<table border=\"1\" class=\"dataframe\">\n",
       "  <thead>\n",
       "    <tr style=\"text-align: right;\">\n",
       "      <th></th>\n",
       "      <th>post_number</th>\n",
       "      <th>name</th>\n",
       "      <th>title</th>\n",
       "      <th>content</th>\n",
       "      <th>combined</th>\n",
       "      <th>claps</th>\n",
       "    </tr>\n",
       "  </thead>\n",
       "  <tbody>\n",
       "    <tr>\n",
       "      <th>0</th>\n",
       "      <td>0</td>\n",
       "      <td>georgia deaconu</td>\n",
       "      <td>3 ways to deal with large datasets in python</td>\n",
       "      <td>as a data scientist, i find myself more and mo...</td>\n",
       "      <td>3 ways to deal with large datasets in python a...</td>\n",
       "      <td>295.0</td>\n",
       "    </tr>\n",
       "    <tr>\n",
       "      <th>1</th>\n",
       "      <td>1</td>\n",
       "      <td>aakriti sharma</td>\n",
       "      <td>a 22-week curriculum to learn data analytics i...</td>\n",
       "      <td>it’s always day one in tech! as the entire wor...</td>\n",
       "      <td>a 22-week curriculum to learn data analytics i...</td>\n",
       "      <td>678.0</td>\n",
       "    </tr>\n",
       "    <tr>\n",
       "      <th>2</th>\n",
       "      <td>2</td>\n",
       "      <td>michael zabolocki</td>\n",
       "      <td>top python libraries for visualization: a star...</td>\n",
       "      <td>the guide to plotting scatter plots, heat maps...</td>\n",
       "      <td>top python libraries for visualization: a star...</td>\n",
       "      <td>64.0</td>\n",
       "    </tr>\n",
       "  </tbody>\n",
       "</table>\n",
       "</div>"
      ],
      "text/plain": [
       "   post_number               name  \\\n",
       "0            0    georgia deaconu   \n",
       "1            1     aakriti sharma   \n",
       "2            2  michael zabolocki   \n",
       "\n",
       "                                               title  \\\n",
       "0       3 ways to deal with large datasets in python   \n",
       "1  a 22-week curriculum to learn data analytics i...   \n",
       "2  top python libraries for visualization: a star...   \n",
       "\n",
       "                                             content  \\\n",
       "0  as a data scientist, i find myself more and mo...   \n",
       "1  it’s always day one in tech! as the entire wor...   \n",
       "2  the guide to plotting scatter plots, heat maps...   \n",
       "\n",
       "                                            combined  claps  \n",
       "0  3 ways to deal with large datasets in python a...  295.0  \n",
       "1  a 22-week curriculum to learn data analytics i...  678.0  \n",
       "2  top python libraries for visualization: a star...   64.0  "
      ]
     },
     "execution_count": 3,
     "metadata": {},
     "output_type": "execute_result"
    }
   ],
   "source": [
    "# Imports\n",
    "import pandas as pd\n",
    "import numpy as np\n",
    "import plotly.express as px\n",
    "import gensim\n",
    "\n",
    "from nltk.corpus import stopwords\n",
    "from IPython.display import Markdown as md\n",
    "from IPython.display import HTML\n",
    "\n",
    "medium = pd.read_csv(\"00_data/2022_data_cleaned_for_nlp.csv\")\n",
    "\n",
    "## fill NaN/blank claps with 0\n",
    "medium['claps'] = medium['claps'].fillna(0)\n",
    "\n",
    "## concat title+content\n",
    "medium['combined'] = medium['title'].astype(str) + \" \" + medium['content']\n",
    "medium = medium[['post_number', 'name', 'title', 'content', 'combined', 'claps']]\n",
    "\n",
    "medium.head(3)\n"
   ]
  },
  {
   "attachments": {},
   "cell_type": "markdown",
   "metadata": {},
   "source": [
    "***"
   ]
  },
  {
   "attachments": {},
   "cell_type": "markdown",
   "metadata": {},
   "source": [
    "<h2><center>High-Level Analysis</center></h2>\n",
    "<h4>After cleaning, 33k articles by 12.4k writers were left to analyze</h4>"
   ]
  },
  {
   "cell_type": "code",
   "execution_count": 5,
   "metadata": {},
   "outputs": [
    {
     "name": "stdout",
     "output_type": "stream",
     "text": [
      "Total Articles:  33419\n",
      "Total Writers:  12456\n"
     ]
    }
   ],
   "source": [
    "print(\"Total Articles: \", medium.shape[0])\n",
    "print(\"Total Writers: \", medium['name'].value_counts().shape[0])"
   ]
  },
  {
   "attachments": {},
   "cell_type": "markdown",
   "metadata": {},
   "source": [
    "<h4>Claps ranged from 0-6,600 per article, with 66 as the mean</h4>"
   ]
  },
  {
   "cell_type": "code",
   "execution_count": 6,
   "metadata": {},
   "outputs": [
    {
     "name": "stdout",
     "output_type": "stream",
     "text": [
      "Total claps across all articles:  2236214\n",
      "Maximum claps received in an article:  6600\n",
      "Minimum claps received in an article:  0\n",
      "Mean # claps received in an article:  66\n",
      "Median # claps received in an article:  21\n"
     ]
    }
   ],
   "source": [
    "print(\"Total claps across all articles: \", int(medium['claps'].sum()))\n",
    "print(\"Maximum claps received in an article: \", int(medium['claps'].max()))\n",
    "print(\"Minimum claps received in an article: \", int(medium['claps'].min()))\n",
    "print(\"Mean # claps received in an article: \", int(medium['claps'].mean()))\n",
    "print(\"Median # claps received in an article: \", int(medium['claps'].median()))"
   ]
  },
  {
   "attachments": {},
   "cell_type": "markdown",
   "metadata": {},
   "source": [
    "<h4>Out of 33.4k articles, 24.5k (73% of the total) received claps below the mean</h4>"
   ]
  },
  {
   "cell_type": "code",
   "execution_count": 8,
   "metadata": {},
   "outputs": [
    {
     "name": "stdout",
     "output_type": "stream",
     "text": [
      "Out of 33419 articles, 24537 (73% of the total) received fewer than 66 claps.\n"
     ]
    },
    {
     "data": {
      "application/vnd.plotly.v1+json": {
       "config": {
        "plotlyServerURL": "https://plot.ly"
       },
       "data": [
        {
         "alignmentgroup": "True",
         "hovertemplate": "Range of Claps=%{x}<br>Count of Articles=%{y}<extra></extra>",
         "legendgroup": "",
         "marker": {
          "color": "#636efa",
          "pattern": {
           "shape": ""
          }
         },
         "name": "",
         "offsetgroup": "",
         "orientation": "v",
         "showlegend": false,
         "textposition": "auto",
         "type": "bar",
         "x": [
          "0-65",
          "66-6600"
         ],
         "xaxis": "x",
         "y": [
          24537,
          8882
         ],
         "yaxis": "y"
        }
       ],
       "layout": {
        "barmode": "relative",
        "legend": {
         "tracegroupgap": 0
        },
        "template": {
         "data": {
          "bar": [
           {
            "error_x": {
             "color": "#2a3f5f"
            },
            "error_y": {
             "color": "#2a3f5f"
            },
            "marker": {
             "line": {
              "color": "#E5ECF6",
              "width": 0.5
             },
             "pattern": {
              "fillmode": "overlay",
              "size": 10,
              "solidity": 0.2
             }
            },
            "type": "bar"
           }
          ],
          "barpolar": [
           {
            "marker": {
             "line": {
              "color": "#E5ECF6",
              "width": 0.5
             },
             "pattern": {
              "fillmode": "overlay",
              "size": 10,
              "solidity": 0.2
             }
            },
            "type": "barpolar"
           }
          ],
          "carpet": [
           {
            "aaxis": {
             "endlinecolor": "#2a3f5f",
             "gridcolor": "white",
             "linecolor": "white",
             "minorgridcolor": "white",
             "startlinecolor": "#2a3f5f"
            },
            "baxis": {
             "endlinecolor": "#2a3f5f",
             "gridcolor": "white",
             "linecolor": "white",
             "minorgridcolor": "white",
             "startlinecolor": "#2a3f5f"
            },
            "type": "carpet"
           }
          ],
          "choropleth": [
           {
            "colorbar": {
             "outlinewidth": 0,
             "ticks": ""
            },
            "type": "choropleth"
           }
          ],
          "contour": [
           {
            "colorbar": {
             "outlinewidth": 0,
             "ticks": ""
            },
            "colorscale": [
             [
              0,
              "#0d0887"
             ],
             [
              0.1111111111111111,
              "#46039f"
             ],
             [
              0.2222222222222222,
              "#7201a8"
             ],
             [
              0.3333333333333333,
              "#9c179e"
             ],
             [
              0.4444444444444444,
              "#bd3786"
             ],
             [
              0.5555555555555556,
              "#d8576b"
             ],
             [
              0.6666666666666666,
              "#ed7953"
             ],
             [
              0.7777777777777778,
              "#fb9f3a"
             ],
             [
              0.8888888888888888,
              "#fdca26"
             ],
             [
              1,
              "#f0f921"
             ]
            ],
            "type": "contour"
           }
          ],
          "contourcarpet": [
           {
            "colorbar": {
             "outlinewidth": 0,
             "ticks": ""
            },
            "type": "contourcarpet"
           }
          ],
          "heatmap": [
           {
            "colorbar": {
             "outlinewidth": 0,
             "ticks": ""
            },
            "colorscale": [
             [
              0,
              "#0d0887"
             ],
             [
              0.1111111111111111,
              "#46039f"
             ],
             [
              0.2222222222222222,
              "#7201a8"
             ],
             [
              0.3333333333333333,
              "#9c179e"
             ],
             [
              0.4444444444444444,
              "#bd3786"
             ],
             [
              0.5555555555555556,
              "#d8576b"
             ],
             [
              0.6666666666666666,
              "#ed7953"
             ],
             [
              0.7777777777777778,
              "#fb9f3a"
             ],
             [
              0.8888888888888888,
              "#fdca26"
             ],
             [
              1,
              "#f0f921"
             ]
            ],
            "type": "heatmap"
           }
          ],
          "heatmapgl": [
           {
            "colorbar": {
             "outlinewidth": 0,
             "ticks": ""
            },
            "colorscale": [
             [
              0,
              "#0d0887"
             ],
             [
              0.1111111111111111,
              "#46039f"
             ],
             [
              0.2222222222222222,
              "#7201a8"
             ],
             [
              0.3333333333333333,
              "#9c179e"
             ],
             [
              0.4444444444444444,
              "#bd3786"
             ],
             [
              0.5555555555555556,
              "#d8576b"
             ],
             [
              0.6666666666666666,
              "#ed7953"
             ],
             [
              0.7777777777777778,
              "#fb9f3a"
             ],
             [
              0.8888888888888888,
              "#fdca26"
             ],
             [
              1,
              "#f0f921"
             ]
            ],
            "type": "heatmapgl"
           }
          ],
          "histogram": [
           {
            "marker": {
             "pattern": {
              "fillmode": "overlay",
              "size": 10,
              "solidity": 0.2
             }
            },
            "type": "histogram"
           }
          ],
          "histogram2d": [
           {
            "colorbar": {
             "outlinewidth": 0,
             "ticks": ""
            },
            "colorscale": [
             [
              0,
              "#0d0887"
             ],
             [
              0.1111111111111111,
              "#46039f"
             ],
             [
              0.2222222222222222,
              "#7201a8"
             ],
             [
              0.3333333333333333,
              "#9c179e"
             ],
             [
              0.4444444444444444,
              "#bd3786"
             ],
             [
              0.5555555555555556,
              "#d8576b"
             ],
             [
              0.6666666666666666,
              "#ed7953"
             ],
             [
              0.7777777777777778,
              "#fb9f3a"
             ],
             [
              0.8888888888888888,
              "#fdca26"
             ],
             [
              1,
              "#f0f921"
             ]
            ],
            "type": "histogram2d"
           }
          ],
          "histogram2dcontour": [
           {
            "colorbar": {
             "outlinewidth": 0,
             "ticks": ""
            },
            "colorscale": [
             [
              0,
              "#0d0887"
             ],
             [
              0.1111111111111111,
              "#46039f"
             ],
             [
              0.2222222222222222,
              "#7201a8"
             ],
             [
              0.3333333333333333,
              "#9c179e"
             ],
             [
              0.4444444444444444,
              "#bd3786"
             ],
             [
              0.5555555555555556,
              "#d8576b"
             ],
             [
              0.6666666666666666,
              "#ed7953"
             ],
             [
              0.7777777777777778,
              "#fb9f3a"
             ],
             [
              0.8888888888888888,
              "#fdca26"
             ],
             [
              1,
              "#f0f921"
             ]
            ],
            "type": "histogram2dcontour"
           }
          ],
          "mesh3d": [
           {
            "colorbar": {
             "outlinewidth": 0,
             "ticks": ""
            },
            "type": "mesh3d"
           }
          ],
          "parcoords": [
           {
            "line": {
             "colorbar": {
              "outlinewidth": 0,
              "ticks": ""
             }
            },
            "type": "parcoords"
           }
          ],
          "pie": [
           {
            "automargin": true,
            "type": "pie"
           }
          ],
          "scatter": [
           {
            "fillpattern": {
             "fillmode": "overlay",
             "size": 10,
             "solidity": 0.2
            },
            "type": "scatter"
           }
          ],
          "scatter3d": [
           {
            "line": {
             "colorbar": {
              "outlinewidth": 0,
              "ticks": ""
             }
            },
            "marker": {
             "colorbar": {
              "outlinewidth": 0,
              "ticks": ""
             }
            },
            "type": "scatter3d"
           }
          ],
          "scattercarpet": [
           {
            "marker": {
             "colorbar": {
              "outlinewidth": 0,
              "ticks": ""
             }
            },
            "type": "scattercarpet"
           }
          ],
          "scattergeo": [
           {
            "marker": {
             "colorbar": {
              "outlinewidth": 0,
              "ticks": ""
             }
            },
            "type": "scattergeo"
           }
          ],
          "scattergl": [
           {
            "marker": {
             "colorbar": {
              "outlinewidth": 0,
              "ticks": ""
             }
            },
            "type": "scattergl"
           }
          ],
          "scattermapbox": [
           {
            "marker": {
             "colorbar": {
              "outlinewidth": 0,
              "ticks": ""
             }
            },
            "type": "scattermapbox"
           }
          ],
          "scatterpolar": [
           {
            "marker": {
             "colorbar": {
              "outlinewidth": 0,
              "ticks": ""
             }
            },
            "type": "scatterpolar"
           }
          ],
          "scatterpolargl": [
           {
            "marker": {
             "colorbar": {
              "outlinewidth": 0,
              "ticks": ""
             }
            },
            "type": "scatterpolargl"
           }
          ],
          "scatterternary": [
           {
            "marker": {
             "colorbar": {
              "outlinewidth": 0,
              "ticks": ""
             }
            },
            "type": "scatterternary"
           }
          ],
          "surface": [
           {
            "colorbar": {
             "outlinewidth": 0,
             "ticks": ""
            },
            "colorscale": [
             [
              0,
              "#0d0887"
             ],
             [
              0.1111111111111111,
              "#46039f"
             ],
             [
              0.2222222222222222,
              "#7201a8"
             ],
             [
              0.3333333333333333,
              "#9c179e"
             ],
             [
              0.4444444444444444,
              "#bd3786"
             ],
             [
              0.5555555555555556,
              "#d8576b"
             ],
             [
              0.6666666666666666,
              "#ed7953"
             ],
             [
              0.7777777777777778,
              "#fb9f3a"
             ],
             [
              0.8888888888888888,
              "#fdca26"
             ],
             [
              1,
              "#f0f921"
             ]
            ],
            "type": "surface"
           }
          ],
          "table": [
           {
            "cells": {
             "fill": {
              "color": "#EBF0F8"
             },
             "line": {
              "color": "white"
             }
            },
            "header": {
             "fill": {
              "color": "#C8D4E3"
             },
             "line": {
              "color": "white"
             }
            },
            "type": "table"
           }
          ]
         },
         "layout": {
          "annotationdefaults": {
           "arrowcolor": "#2a3f5f",
           "arrowhead": 0,
           "arrowwidth": 1
          },
          "autotypenumbers": "strict",
          "coloraxis": {
           "colorbar": {
            "outlinewidth": 0,
            "ticks": ""
           }
          },
          "colorscale": {
           "diverging": [
            [
             0,
             "#8e0152"
            ],
            [
             0.1,
             "#c51b7d"
            ],
            [
             0.2,
             "#de77ae"
            ],
            [
             0.3,
             "#f1b6da"
            ],
            [
             0.4,
             "#fde0ef"
            ],
            [
             0.5,
             "#f7f7f7"
            ],
            [
             0.6,
             "#e6f5d0"
            ],
            [
             0.7,
             "#b8e186"
            ],
            [
             0.8,
             "#7fbc41"
            ],
            [
             0.9,
             "#4d9221"
            ],
            [
             1,
             "#276419"
            ]
           ],
           "sequential": [
            [
             0,
             "#0d0887"
            ],
            [
             0.1111111111111111,
             "#46039f"
            ],
            [
             0.2222222222222222,
             "#7201a8"
            ],
            [
             0.3333333333333333,
             "#9c179e"
            ],
            [
             0.4444444444444444,
             "#bd3786"
            ],
            [
             0.5555555555555556,
             "#d8576b"
            ],
            [
             0.6666666666666666,
             "#ed7953"
            ],
            [
             0.7777777777777778,
             "#fb9f3a"
            ],
            [
             0.8888888888888888,
             "#fdca26"
            ],
            [
             1,
             "#f0f921"
            ]
           ],
           "sequentialminus": [
            [
             0,
             "#0d0887"
            ],
            [
             0.1111111111111111,
             "#46039f"
            ],
            [
             0.2222222222222222,
             "#7201a8"
            ],
            [
             0.3333333333333333,
             "#9c179e"
            ],
            [
             0.4444444444444444,
             "#bd3786"
            ],
            [
             0.5555555555555556,
             "#d8576b"
            ],
            [
             0.6666666666666666,
             "#ed7953"
            ],
            [
             0.7777777777777778,
             "#fb9f3a"
            ],
            [
             0.8888888888888888,
             "#fdca26"
            ],
            [
             1,
             "#f0f921"
            ]
           ]
          },
          "colorway": [
           "#636efa",
           "#EF553B",
           "#00cc96",
           "#ab63fa",
           "#FFA15A",
           "#19d3f3",
           "#FF6692",
           "#B6E880",
           "#FF97FF",
           "#FECB52"
          ],
          "font": {
           "color": "#2a3f5f"
          },
          "geo": {
           "bgcolor": "white",
           "lakecolor": "white",
           "landcolor": "#E5ECF6",
           "showlakes": true,
           "showland": true,
           "subunitcolor": "white"
          },
          "hoverlabel": {
           "align": "left"
          },
          "hovermode": "closest",
          "mapbox": {
           "style": "light"
          },
          "paper_bgcolor": "white",
          "plot_bgcolor": "#E5ECF6",
          "polar": {
           "angularaxis": {
            "gridcolor": "white",
            "linecolor": "white",
            "ticks": ""
           },
           "bgcolor": "#E5ECF6",
           "radialaxis": {
            "gridcolor": "white",
            "linecolor": "white",
            "ticks": ""
           }
          },
          "scene": {
           "xaxis": {
            "backgroundcolor": "#E5ECF6",
            "gridcolor": "white",
            "gridwidth": 2,
            "linecolor": "white",
            "showbackground": true,
            "ticks": "",
            "zerolinecolor": "white"
           },
           "yaxis": {
            "backgroundcolor": "#E5ECF6",
            "gridcolor": "white",
            "gridwidth": 2,
            "linecolor": "white",
            "showbackground": true,
            "ticks": "",
            "zerolinecolor": "white"
           },
           "zaxis": {
            "backgroundcolor": "#E5ECF6",
            "gridcolor": "white",
            "gridwidth": 2,
            "linecolor": "white",
            "showbackground": true,
            "ticks": "",
            "zerolinecolor": "white"
           }
          },
          "shapedefaults": {
           "line": {
            "color": "#2a3f5f"
           }
          },
          "ternary": {
           "aaxis": {
            "gridcolor": "white",
            "linecolor": "white",
            "ticks": ""
           },
           "baxis": {
            "gridcolor": "white",
            "linecolor": "white",
            "ticks": ""
           },
           "bgcolor": "#E5ECF6",
           "caxis": {
            "gridcolor": "white",
            "linecolor": "white",
            "ticks": ""
           }
          },
          "title": {
           "x": 0.05
          },
          "xaxis": {
           "automargin": true,
           "gridcolor": "white",
           "linecolor": "white",
           "ticks": "",
           "title": {
            "standoff": 15
           },
           "zerolinecolor": "white",
           "zerolinewidth": 2
          },
          "yaxis": {
           "automargin": true,
           "gridcolor": "white",
           "linecolor": "white",
           "ticks": "",
           "title": {
            "standoff": 15
           },
           "zerolinecolor": "white",
           "zerolinewidth": 2
          }
         }
        },
        "title": {
         "text": "Only 27% of Articles Are Clapped Above the Mean"
        },
        "xaxis": {
         "anchor": "y",
         "domain": [
          0,
          1
         ],
         "title": {
          "text": "Range of Claps"
         }
        },
        "yaxis": {
         "anchor": "x",
         "domain": [
          0,
          1
         ],
         "title": {
          "text": "Count of Articles"
         }
        }
       }
      }
     },
     "metadata": {},
     "output_type": "display_data"
    }
   ],
   "source": [
    "## Mean Summary\n",
    "articles_total = medium['title'].shape[0]\n",
    "mean_claps = int(medium['claps'].mean())\n",
    "max_claps = int(medium['claps'].max())\n",
    "articles_under_mean = medium[medium['claps'] < mean_claps].shape[0]\n",
    "under_mean_pct = \"{:.0%}\".format(articles_under_mean/articles_total)\n",
    "over_mean = articles_total - articles_under_mean\n",
    "over_mean_pct = \"{:.0%}\".format(over_mean/articles_total)\n",
    "\n",
    "print(f\"Out of {articles_total} articles, {articles_under_mean} ({under_mean_pct} of the total) received fewer than {mean_claps} claps.\")\n",
    "\n",
    "x = [f'0-{mean_claps-1}', f'{mean_claps}-{max_claps}']\n",
    "height = [articles_under_mean, over_mean]\n",
    "\n",
    "px.bar(\n",
    "    x = x,\n",
    "    y = height,\n",
    "    orientation = 'v',\n",
    "    title = f'Only {over_mean_pct} of Articles Received Claps Above the Mean',\n",
    "    labels={'x': 'Range of Claps', 'y':'Count of Articles'}\n",
    ")\n"
   ]
  },
  {
   "attachments": {},
   "cell_type": "markdown",
   "metadata": {},
   "source": [
    "![Alt text](above-mean-claps.PNG)"
   ]
  },
  {
   "attachments": {},
   "cell_type": "markdown",
   "metadata": {},
   "source": [
    "***"
   ]
  },
  {
   "attachments": {},
   "cell_type": "markdown",
   "metadata": {},
   "source": [
    "<h2><center>Writer Summary</center></h2>"
   ]
  },
  {
   "attachments": {},
   "cell_type": "markdown",
   "metadata": {},
   "source": [
    "<h4>125 writers, or 1%, wrote 7.4k articles, or 22%, out of 33.4k in 2022.</h4>"
   ]
  },
  {
   "cell_type": "code",
   "execution_count": 10,
   "metadata": {},
   "outputs": [
    {
     "name": "stdout",
     "output_type": "stream",
     "text": [
      "Total number of writers:  12456\n",
      "Top 1% of writers:  125\n",
      "125 writers, or 1%, wrote 7383 (22%) articles in 2022.\n"
     ]
    }
   ],
   "source": [
    "writers_total = medium['name'] \\\n",
    "    .value_counts() \\\n",
    "    .shape[0]\n",
    "\n",
    "one_pct_of_writers = int(round(writers_total * 0.01, 0))\n",
    "\n",
    "print(\"Total number of writers: \", writers_total)\n",
    "print(\"Top 1% of writers: \", one_pct_of_writers)\n",
    "\n",
    "\n",
    "top_percent_most_content = medium['name'].value_counts().nlargest(one_pct_of_writers)\n",
    "writers_pct_of_total = \"{:.0%}\".format(one_pct_of_writers / writers_total)\n",
    "articles_by_top_percent = top_percent_most_content.agg(np.sum)\n",
    "articles_pct_of_total = \"{:.0%}\".format(articles_by_top_percent / articles_total)\n",
    "\n",
    "print(f\"{one_pct_of_writers} writers, or {writers_pct_of_total}, wrote {articles_by_top_percent} ({articles_pct_of_total}) articles in 2022.\")\n"
   ]
  },
  {
   "attachments": {},
   "cell_type": "markdown",
   "metadata": {},
   "source": [
    "<h4>The top 3 writers with the most content wrote 1341 (4%) of 33,419 articles. An average of 1.2 articles per day in 2022.</h4>"
   ]
  },
  {
   "cell_type": "code",
   "execution_count": 11,
   "metadata": {},
   "outputs": [
    {
     "name": "stdout",
     "output_type": "stream",
     "text": [
      "The top 3 writers out of 12456 wrote 1341 (4%) of 33419 articles. An average of 1.2 articles per day.\n"
     ]
    }
   ],
   "source": [
    "### Top 3 Writers\n",
    "top_3_writers = medium['name'].value_counts().nlargest(3)\n",
    "articles_top_3 = top_3_writers.agg(np.sum)\n",
    "articles_top_3_pct_of_total = \"{:.0%}\".format(articles_top_3 / articles_total)\n",
    "avg_per_day_top_3 = round((articles_top_3/3) / 365, 1)\n",
    "\n",
    "print(f\"The top 3 writers out with the most content wrote {articles_top_3} ({articles_top_3_pct_of_total}) of {articles_total} articles. An average of {avg_per_day_top_3} articles per day in 2022.\")"
   ]
  },
  {
   "attachments": {},
   "cell_type": "markdown",
   "metadata": {},
   "source": [
    "<h4>Paredo's Principle: 80/20</h4>\n",
    "\n",
    "The 80/20 rule says '80% of the results come from 20% of the workers.'<br>\n",
    "However, that's not valid in this analysis... <br>\n",
    "<b>21k articles (or 63%) out of 33k are written by the top 20% (or 2.5k) writers.</b>"
   ]
  },
  {
   "cell_type": "code",
   "execution_count": 12,
   "metadata": {},
   "outputs": [
    {
     "name": "stdout",
     "output_type": "stream",
     "text": [
      "21296 (64%) out of 33419 articles, are written by the top 20% of writers, or 2491.\n"
     ]
    }
   ],
   "source": [
    "articles_80 = int(round(articles_total * 0.8, 0))\n",
    "writers_20  = int(round(writers_total * 0.2, 0))\n",
    "\n",
    "twenty_pct_of_writers = int(round(writers_total * 0.2, 0))\n",
    "twenty_pct_writers = medium['name'].value_counts().nlargest(twenty_pct_of_writers)\n",
    "twenty_pct_articles = twenty_pct_writers.agg(np.sum)\n",
    "\n",
    "twenty_pct_result = \"{:.0%}\".format(twenty_pct_articles / articles_total)\n",
    "\n",
    "print(f\"{twenty_pct_articles} ({twenty_pct_result}) out of {articles_total} articles are written by the top 20% of writers, or {writers_20}.\")"
   ]
  },
  {
   "attachments": {},
   "cell_type": "markdown",
   "metadata": {},
   "source": [
    "***"
   ]
  },
  {
   "attachments": {},
   "cell_type": "markdown",
   "metadata": {},
   "source": [
    "<h2><center>NLP with Gensim<center></h2>"
   ]
  },
  {
   "attachments": {},
   "cell_type": "markdown",
   "metadata": {},
   "source": [
    "<h3>NLP Process</h3>\n",
    "\n",
    "We want to know what makes a data scientist click, read through, and engage with the article.  I analyzed the title+subtitle (ie. click-bait) of the articles with claps above the mean, and compared those results with articles below the mean.\n",
    "\n",
    "<b>Please note:</b> The code for the articles below the mean is not included here. It's the same as below, but just reversing the \"greater than or equal to\" sign in the first line of code.\n",
    "\n",
    "Each code chunk below walks you thorugh the steps, so you don't have to figure out what I was doing."
   ]
  },
  {
   "attachments": {},
   "cell_type": "markdown",
   "metadata": {},
   "source": [
    "#### 1. Create empty list for tokens"
   ]
  },
  {
   "cell_type": "code",
   "execution_count": 16,
   "metadata": {},
   "outputs": [
    {
     "data": {
      "text/plain": [
       "0       [ways, to, deal, with, large, datasets, in, py...\n",
       "1       [week, curriculum, to, learn, data, analytics,...\n",
       "2       [is, coursera, ibm, data, science, professiona...\n",
       "3       [plagiarism, detection, in, online, exams, usi...\n",
       "4       [shooting, star, problem, simple, solution, an...\n",
       "                              ...                        \n",
       "8877    [days, of, pytorch, with, projects, series, ve...\n",
       "8878    [days, of, tensorflow, and, keras, with, proje...\n",
       "8879    [top, ai, predictions, for, from, forbes, inde...\n",
       "8880    [data, science, my, most, successful, year, on...\n",
       "8881    [what, chatgpt, chatgpt, is, neural, network, ...\n",
       "Length: 8882, dtype: object"
      ]
     },
     "execution_count": 16,
     "metadata": {},
     "output_type": "execute_result"
    }
   ],
   "source": [
    "# 5.0 TITLE+SUBTITLE PROCESSING (GENSIM): RESULTS FOR ARTICLES WITH CLAPS ABOVE THE MEAN (27%) ----\n",
    "medium_above_mean = medium[medium['claps'] >= mean_claps]\n",
    "\n",
    "tokens = []\n",
    "for results_above in medium_above_mean['combined']:\n",
    "    l = gensim.utils.simple_preprocess(str(results_above))\n",
    "    tokens.append(l)\n",
    "\n",
    "pd.Series(tokens)\n",
    "\n"
   ]
  },
  {
   "attachments": {},
   "cell_type": "markdown",
   "metadata": {},
   "source": [
    "#### 2. Remove Stopwords (with, the, and, from, etc.) with nltk.corpus stopwords"
   ]
  },
  {
   "cell_type": "code",
   "execution_count": 17,
   "metadata": {},
   "outputs": [
    {
     "data": {
      "text/plain": [
       "0       [ways, deal, large, datasets, python, data, sc...\n",
       "1       [week, curriculum, learn, data, analytics, fre...\n",
       "2       [coursera, ibm, data, science, professional, c...\n",
       "3       [plagiarism, detection, online, exams, using, ...\n",
       "4       [shooting, star, problem, simple, solution, po...\n",
       "                              ...                        \n",
       "8877    [days, pytorch, projects, series, vertical, se...\n",
       "8878    [days, tensorflow, keras, projects, series, ve...\n",
       "8879    [top, ai, predictions, forbes, index, ventures...\n",
       "8880    [data, science, successful, year, medium, than...\n",
       "8881    [chatgpt, chatgpt, neural, network, model, dev...\n",
       "Length: 8882, dtype: object"
      ]
     },
     "execution_count": 17,
     "metadata": {},
     "output_type": "execute_result"
    }
   ],
   "source": [
    "\n",
    "## Remove stopwords\n",
    "stop_words = stopwords.words('english')\n",
    "\n",
    "### for loop to separate each element and loop through each list.  This removes stopwords from nested lists.\n",
    "tokens_stopwords_removed = []\n",
    "for i in tokens:\n",
    "    ii = []\n",
    "    for word in i:\n",
    "        if word not in stop_words:\n",
    "            ii.append(word)\n",
    "    tokens_stopwords_removed.append(ii)\n",
    "\n",
    "pd.Series(tokens_stopwords_removed)"
   ]
  },
  {
   "attachments": {},
   "cell_type": "markdown",
   "metadata": {},
   "source": [
    "#### 3. Frequency Analysis: Uni-/Bi-grams"
   ]
  },
  {
   "cell_type": "code",
   "execution_count": 21,
   "metadata": {},
   "outputs": [
    {
     "data": {
      "application/vnd.plotly.v1+json": {
       "config": {
        "plotlyServerURL": "https://plot.ly"
       },
       "data": [
        {
         "alignmentgroup": "True",
         "hovertemplate": "variable=tokens<br>value=%{x}<br>index=%{y}<extra></extra>",
         "legendgroup": "tokens",
         "marker": {
          "color": "#636efa",
          "pattern": {
           "shape": ""
          }
         },
         "name": "tokens",
         "offsetgroup": "tokens",
         "orientation": "h",
         "showlegend": true,
         "textposition": "auto",
         "type": "bar",
         "x": [
          69,
          69,
          70,
          71,
          73,
          73,
          75,
          76,
          77,
          77,
          85,
          85,
          86,
          89,
          90,
          90,
          92,
          93,
          94,
          96,
          97,
          98,
          99,
          101,
          104,
          107,
          107,
          109,
          114,
          116,
          118,
          121,
          123,
          125,
          132,
          134,
          134,
          147,
          151,
          153,
          158,
          163,
          167,
          173,
          224,
          235,
          380,
          392,
          533,
          638
         ],
         "xaxis": "x",
         "y": [
          "data-engineering",
          "like",
          "work",
          "building",
          "projects",
          "based",
          "dataset",
          "step-step",
          "build",
          "analytics",
          "need",
          "time",
          "get",
          "best",
          "understanding",
          "data-analysis",
          "top",
          "project",
          "create",
          "deep-learning",
          "vs",
          "data-scientists",
          "make",
          "using-python",
          "guide",
          "day-days",
          "code",
          "sql",
          "scientist",
          "one",
          "learn",
          "new",
          "model",
          "pandas",
          "time-series",
          "models",
          "know",
          "ai",
          "data-scientist",
          "use",
          "introduction",
          "learning",
          "part",
          "analysis",
          "using",
          "science",
          "data",
          "python",
          "machine-learning",
          "data-science"
         ],
         "yaxis": "y"
        }
       ],
       "layout": {
        "barmode": "relative",
        "legend": {
         "title": {
          "text": "variable"
         },
         "tracegroupgap": 0
        },
        "template": {
         "data": {
          "bar": [
           {
            "error_x": {
             "color": "#2a3f5f"
            },
            "error_y": {
             "color": "#2a3f5f"
            },
            "marker": {
             "line": {
              "color": "#E5ECF6",
              "width": 0.5
             },
             "pattern": {
              "fillmode": "overlay",
              "size": 10,
              "solidity": 0.2
             }
            },
            "type": "bar"
           }
          ],
          "barpolar": [
           {
            "marker": {
             "line": {
              "color": "#E5ECF6",
              "width": 0.5
             },
             "pattern": {
              "fillmode": "overlay",
              "size": 10,
              "solidity": 0.2
             }
            },
            "type": "barpolar"
           }
          ],
          "carpet": [
           {
            "aaxis": {
             "endlinecolor": "#2a3f5f",
             "gridcolor": "white",
             "linecolor": "white",
             "minorgridcolor": "white",
             "startlinecolor": "#2a3f5f"
            },
            "baxis": {
             "endlinecolor": "#2a3f5f",
             "gridcolor": "white",
             "linecolor": "white",
             "minorgridcolor": "white",
             "startlinecolor": "#2a3f5f"
            },
            "type": "carpet"
           }
          ],
          "choropleth": [
           {
            "colorbar": {
             "outlinewidth": 0,
             "ticks": ""
            },
            "type": "choropleth"
           }
          ],
          "contour": [
           {
            "colorbar": {
             "outlinewidth": 0,
             "ticks": ""
            },
            "colorscale": [
             [
              0,
              "#0d0887"
             ],
             [
              0.1111111111111111,
              "#46039f"
             ],
             [
              0.2222222222222222,
              "#7201a8"
             ],
             [
              0.3333333333333333,
              "#9c179e"
             ],
             [
              0.4444444444444444,
              "#bd3786"
             ],
             [
              0.5555555555555556,
              "#d8576b"
             ],
             [
              0.6666666666666666,
              "#ed7953"
             ],
             [
              0.7777777777777778,
              "#fb9f3a"
             ],
             [
              0.8888888888888888,
              "#fdca26"
             ],
             [
              1,
              "#f0f921"
             ]
            ],
            "type": "contour"
           }
          ],
          "contourcarpet": [
           {
            "colorbar": {
             "outlinewidth": 0,
             "ticks": ""
            },
            "type": "contourcarpet"
           }
          ],
          "heatmap": [
           {
            "colorbar": {
             "outlinewidth": 0,
             "ticks": ""
            },
            "colorscale": [
             [
              0,
              "#0d0887"
             ],
             [
              0.1111111111111111,
              "#46039f"
             ],
             [
              0.2222222222222222,
              "#7201a8"
             ],
             [
              0.3333333333333333,
              "#9c179e"
             ],
             [
              0.4444444444444444,
              "#bd3786"
             ],
             [
              0.5555555555555556,
              "#d8576b"
             ],
             [
              0.6666666666666666,
              "#ed7953"
             ],
             [
              0.7777777777777778,
              "#fb9f3a"
             ],
             [
              0.8888888888888888,
              "#fdca26"
             ],
             [
              1,
              "#f0f921"
             ]
            ],
            "type": "heatmap"
           }
          ],
          "heatmapgl": [
           {
            "colorbar": {
             "outlinewidth": 0,
             "ticks": ""
            },
            "colorscale": [
             [
              0,
              "#0d0887"
             ],
             [
              0.1111111111111111,
              "#46039f"
             ],
             [
              0.2222222222222222,
              "#7201a8"
             ],
             [
              0.3333333333333333,
              "#9c179e"
             ],
             [
              0.4444444444444444,
              "#bd3786"
             ],
             [
              0.5555555555555556,
              "#d8576b"
             ],
             [
              0.6666666666666666,
              "#ed7953"
             ],
             [
              0.7777777777777778,
              "#fb9f3a"
             ],
             [
              0.8888888888888888,
              "#fdca26"
             ],
             [
              1,
              "#f0f921"
             ]
            ],
            "type": "heatmapgl"
           }
          ],
          "histogram": [
           {
            "marker": {
             "pattern": {
              "fillmode": "overlay",
              "size": 10,
              "solidity": 0.2
             }
            },
            "type": "histogram"
           }
          ],
          "histogram2d": [
           {
            "colorbar": {
             "outlinewidth": 0,
             "ticks": ""
            },
            "colorscale": [
             [
              0,
              "#0d0887"
             ],
             [
              0.1111111111111111,
              "#46039f"
             ],
             [
              0.2222222222222222,
              "#7201a8"
             ],
             [
              0.3333333333333333,
              "#9c179e"
             ],
             [
              0.4444444444444444,
              "#bd3786"
             ],
             [
              0.5555555555555556,
              "#d8576b"
             ],
             [
              0.6666666666666666,
              "#ed7953"
             ],
             [
              0.7777777777777778,
              "#fb9f3a"
             ],
             [
              0.8888888888888888,
              "#fdca26"
             ],
             [
              1,
              "#f0f921"
             ]
            ],
            "type": "histogram2d"
           }
          ],
          "histogram2dcontour": [
           {
            "colorbar": {
             "outlinewidth": 0,
             "ticks": ""
            },
            "colorscale": [
             [
              0,
              "#0d0887"
             ],
             [
              0.1111111111111111,
              "#46039f"
             ],
             [
              0.2222222222222222,
              "#7201a8"
             ],
             [
              0.3333333333333333,
              "#9c179e"
             ],
             [
              0.4444444444444444,
              "#bd3786"
             ],
             [
              0.5555555555555556,
              "#d8576b"
             ],
             [
              0.6666666666666666,
              "#ed7953"
             ],
             [
              0.7777777777777778,
              "#fb9f3a"
             ],
             [
              0.8888888888888888,
              "#fdca26"
             ],
             [
              1,
              "#f0f921"
             ]
            ],
            "type": "histogram2dcontour"
           }
          ],
          "mesh3d": [
           {
            "colorbar": {
             "outlinewidth": 0,
             "ticks": ""
            },
            "type": "mesh3d"
           }
          ],
          "parcoords": [
           {
            "line": {
             "colorbar": {
              "outlinewidth": 0,
              "ticks": ""
             }
            },
            "type": "parcoords"
           }
          ],
          "pie": [
           {
            "automargin": true,
            "type": "pie"
           }
          ],
          "scatter": [
           {
            "fillpattern": {
             "fillmode": "overlay",
             "size": 10,
             "solidity": 0.2
            },
            "type": "scatter"
           }
          ],
          "scatter3d": [
           {
            "line": {
             "colorbar": {
              "outlinewidth": 0,
              "ticks": ""
             }
            },
            "marker": {
             "colorbar": {
              "outlinewidth": 0,
              "ticks": ""
             }
            },
            "type": "scatter3d"
           }
          ],
          "scattercarpet": [
           {
            "marker": {
             "colorbar": {
              "outlinewidth": 0,
              "ticks": ""
             }
            },
            "type": "scattercarpet"
           }
          ],
          "scattergeo": [
           {
            "marker": {
             "colorbar": {
              "outlinewidth": 0,
              "ticks": ""
             }
            },
            "type": "scattergeo"
           }
          ],
          "scattergl": [
           {
            "marker": {
             "colorbar": {
              "outlinewidth": 0,
              "ticks": ""
             }
            },
            "type": "scattergl"
           }
          ],
          "scattermapbox": [
           {
            "marker": {
             "colorbar": {
              "outlinewidth": 0,
              "ticks": ""
             }
            },
            "type": "scattermapbox"
           }
          ],
          "scatterpolar": [
           {
            "marker": {
             "colorbar": {
              "outlinewidth": 0,
              "ticks": ""
             }
            },
            "type": "scatterpolar"
           }
          ],
          "scatterpolargl": [
           {
            "marker": {
             "colorbar": {
              "outlinewidth": 0,
              "ticks": ""
             }
            },
            "type": "scatterpolargl"
           }
          ],
          "scatterternary": [
           {
            "marker": {
             "colorbar": {
              "outlinewidth": 0,
              "ticks": ""
             }
            },
            "type": "scatterternary"
           }
          ],
          "surface": [
           {
            "colorbar": {
             "outlinewidth": 0,
             "ticks": ""
            },
            "colorscale": [
             [
              0,
              "#0d0887"
             ],
             [
              0.1111111111111111,
              "#46039f"
             ],
             [
              0.2222222222222222,
              "#7201a8"
             ],
             [
              0.3333333333333333,
              "#9c179e"
             ],
             [
              0.4444444444444444,
              "#bd3786"
             ],
             [
              0.5555555555555556,
              "#d8576b"
             ],
             [
              0.6666666666666666,
              "#ed7953"
             ],
             [
              0.7777777777777778,
              "#fb9f3a"
             ],
             [
              0.8888888888888888,
              "#fdca26"
             ],
             [
              1,
              "#f0f921"
             ]
            ],
            "type": "surface"
           }
          ],
          "table": [
           {
            "cells": {
             "fill": {
              "color": "#EBF0F8"
             },
             "line": {
              "color": "white"
             }
            },
            "header": {
             "fill": {
              "color": "#C8D4E3"
             },
             "line": {
              "color": "white"
             }
            },
            "type": "table"
           }
          ]
         },
         "layout": {
          "annotationdefaults": {
           "arrowcolor": "#2a3f5f",
           "arrowhead": 0,
           "arrowwidth": 1
          },
          "autotypenumbers": "strict",
          "coloraxis": {
           "colorbar": {
            "outlinewidth": 0,
            "ticks": ""
           }
          },
          "colorscale": {
           "diverging": [
            [
             0,
             "#8e0152"
            ],
            [
             0.1,
             "#c51b7d"
            ],
            [
             0.2,
             "#de77ae"
            ],
            [
             0.3,
             "#f1b6da"
            ],
            [
             0.4,
             "#fde0ef"
            ],
            [
             0.5,
             "#f7f7f7"
            ],
            [
             0.6,
             "#e6f5d0"
            ],
            [
             0.7,
             "#b8e186"
            ],
            [
             0.8,
             "#7fbc41"
            ],
            [
             0.9,
             "#4d9221"
            ],
            [
             1,
             "#276419"
            ]
           ],
           "sequential": [
            [
             0,
             "#0d0887"
            ],
            [
             0.1111111111111111,
             "#46039f"
            ],
            [
             0.2222222222222222,
             "#7201a8"
            ],
            [
             0.3333333333333333,
             "#9c179e"
            ],
            [
             0.4444444444444444,
             "#bd3786"
            ],
            [
             0.5555555555555556,
             "#d8576b"
            ],
            [
             0.6666666666666666,
             "#ed7953"
            ],
            [
             0.7777777777777778,
             "#fb9f3a"
            ],
            [
             0.8888888888888888,
             "#fdca26"
            ],
            [
             1,
             "#f0f921"
            ]
           ],
           "sequentialminus": [
            [
             0,
             "#0d0887"
            ],
            [
             0.1111111111111111,
             "#46039f"
            ],
            [
             0.2222222222222222,
             "#7201a8"
            ],
            [
             0.3333333333333333,
             "#9c179e"
            ],
            [
             0.4444444444444444,
             "#bd3786"
            ],
            [
             0.5555555555555556,
             "#d8576b"
            ],
            [
             0.6666666666666666,
             "#ed7953"
            ],
            [
             0.7777777777777778,
             "#fb9f3a"
            ],
            [
             0.8888888888888888,
             "#fdca26"
            ],
            [
             1,
             "#f0f921"
            ]
           ]
          },
          "colorway": [
           "#636efa",
           "#EF553B",
           "#00cc96",
           "#ab63fa",
           "#FFA15A",
           "#19d3f3",
           "#FF6692",
           "#B6E880",
           "#FF97FF",
           "#FECB52"
          ],
          "font": {
           "color": "#2a3f5f"
          },
          "geo": {
           "bgcolor": "white",
           "lakecolor": "white",
           "landcolor": "#E5ECF6",
           "showlakes": true,
           "showland": true,
           "subunitcolor": "white"
          },
          "hoverlabel": {
           "align": "left"
          },
          "hovermode": "closest",
          "mapbox": {
           "style": "light"
          },
          "paper_bgcolor": "white",
          "plot_bgcolor": "#E5ECF6",
          "polar": {
           "angularaxis": {
            "gridcolor": "white",
            "linecolor": "white",
            "ticks": ""
           },
           "bgcolor": "#E5ECF6",
           "radialaxis": {
            "gridcolor": "white",
            "linecolor": "white",
            "ticks": ""
           }
          },
          "scene": {
           "xaxis": {
            "backgroundcolor": "#E5ECF6",
            "gridcolor": "white",
            "gridwidth": 2,
            "linecolor": "white",
            "showbackground": true,
            "ticks": "",
            "zerolinecolor": "white"
           },
           "yaxis": {
            "backgroundcolor": "#E5ECF6",
            "gridcolor": "white",
            "gridwidth": 2,
            "linecolor": "white",
            "showbackground": true,
            "ticks": "",
            "zerolinecolor": "white"
           },
           "zaxis": {
            "backgroundcolor": "#E5ECF6",
            "gridcolor": "white",
            "gridwidth": 2,
            "linecolor": "white",
            "showbackground": true,
            "ticks": "",
            "zerolinecolor": "white"
           }
          },
          "shapedefaults": {
           "line": {
            "color": "#2a3f5f"
           }
          },
          "ternary": {
           "aaxis": {
            "gridcolor": "white",
            "linecolor": "white",
            "ticks": ""
           },
           "baxis": {
            "gridcolor": "white",
            "linecolor": "white",
            "ticks": ""
           },
           "bgcolor": "#E5ECF6",
           "caxis": {
            "gridcolor": "white",
            "linecolor": "white",
            "ticks": ""
           }
          },
          "title": {
           "x": 0.05
          },
          "xaxis": {
           "automargin": true,
           "gridcolor": "white",
           "linecolor": "white",
           "ticks": "",
           "title": {
            "standoff": 15
           },
           "zerolinecolor": "white",
           "zerolinewidth": 2
          },
          "yaxis": {
           "automargin": true,
           "gridcolor": "white",
           "linecolor": "white",
           "ticks": "",
           "title": {
            "standoff": 15
           },
           "zerolinecolor": "white",
           "zerolinewidth": 2
          }
         }
        },
        "title": {
         "text": "Most-repeated words in posts above mean (>= 66 claps)"
        },
        "xaxis": {
         "anchor": "y",
         "domain": [
          0,
          1
         ],
         "title": {
          "text": "value"
         }
        },
        "yaxis": {
         "anchor": "x",
         "domain": [
          0,
          1
         ],
         "title": {
          "text": "index"
         }
        }
       }
      }
     },
     "metadata": {},
     "output_type": "display_data"
    }
   ],
   "source": [
    "# Uni-grams\n",
    "medium_tokenized = medium_above_mean.copy()\n",
    "medium_tokenized['tokens'] = tokens_stopwords_removed\n",
    "medium_tokenized\n",
    "\n",
    "\n",
    "### explode: this creates a new row for each word, counts each words and dataframes it.\n",
    "title_term_frequency = medium_tokenized[['post_number', 'tokens']] \\\n",
    "    .explode('tokens') \\\n",
    "    ['tokens'] \\\n",
    "    .value_counts() \\\n",
    "    .to_frame()\n",
    "\n",
    "\n",
    "## Bi-grams\n",
    "bigram = gensim.models.Phrases(\n",
    "    tokens_stopwords_removed,\n",
    "    min_count = 1,\n",
    "    threshold = 0.1,\n",
    "    delimiter = b\"-\"\n",
    ")\n",
    "\n",
    "bigram_model = gensim.models.phrases.Phraser(bigram)\n",
    "\n",
    "\n",
    "\n",
    "### for loop again to remove stopwords, extracts uni-/bi-grams and appends them\n",
    "bigram_list = []\n",
    "for i in tokens_stopwords_removed:\n",
    "    bigram_list.append(bigram_model[i])\n",
    "\n",
    "\n",
    "\n",
    "## Frequency Analysis: Uni-/Bi-grams together\n",
    "medium_bigram = medium_above_mean.copy()\n",
    "medium_bigram['tokens'] = bigram_list\n",
    "\n",
    "\n",
    "### explode, count and to dataframe\n",
    "medium_bigram_term_frequency = medium_bigram[['post_number', 'tokens']] \\\n",
    "    .explode('tokens') \\\n",
    "    ['tokens'] \\\n",
    "    .value_counts() \\\n",
    "    .to_frame()\n",
    "\n",
    "\n",
    "## Plot Uni-/Bi-grams together\n",
    "px.bar(\n",
    "    medium_bigram_term_frequency.head(50).sort_values(['tokens']),\n",
    "    orientation = 'h',\n",
    "    title = f'Most-repeated words in posts above mean (>= {mean_claps} claps)'\n",
    ")"
   ]
  },
  {
   "attachments": {},
   "cell_type": "markdown",
   "metadata": {},
   "source": [
    "![Alt text](combined-top-25.PNG)"
   ]
  },
  {
   "attachments": {},
   "cell_type": "markdown",
   "metadata": {},
   "source": [
    "***"
   ]
  },
  {
   "attachments": {},
   "cell_type": "markdown",
   "metadata": {},
   "source": [
    "<h2><center>Conclusion</center></h2>"
   ]
  },
  {
   "attachments": {},
   "cell_type": "markdown",
   "metadata": {},
   "source": [
    "<h3>Articles calling \"Time-Series\" and \"Pandas\" are more likely to receive clicks & claps</h3>"
   ]
  },
  {
   "attachments": {},
   "cell_type": "markdown",
   "metadata": {},
   "source": [
    "![Alt text](comparison.png)"
   ]
  },
  {
   "attachments": {},
   "cell_type": "markdown",
   "metadata": {},
   "source": [
    "It shouldn't suprise us that keywords in titles+subtitles (click-bait) are similar across all articles.  Those similarities show us that the click-bait doesn't matter when it comes to claps.\n",
    "\n",
    "- **Time-series** and **Pandas** were two keywords that were more popular, but weren't used ofter in articles below the clap-mean<br>\n",
    "- **Big-data** and **deep-learning** were not so popular, but they were written about more. <br>\n",
    "\n",
    "If I wanted to be an applauded data science writer on medium I would write about time-series in pandas.  That would give me the best chances of being clicked and applauded.<br>\n",
    "I would stay away from \"big-data\" and \"deep-learning.\"\n",
    "\n",
    "\"Big-data\" and \"deep-learning\" are not bad topics, but maybe the \"big-data\" keyword is over-used and doesn't feel as cutting-edge as it used to.  Maybe \"deep-learning\" is still a black box or it's intimidating to learn.  That would be a different analysis."
   ]
  },
  {
   "attachments": {},
   "cell_type": "markdown",
   "metadata": {},
   "source": [
    "<h2><center>Thanks for reading!</center></h2>"
   ]
  }
 ],
 "metadata": {
  "kernelspec": {
   "display_name": "Python 3",
   "language": "python",
   "name": "python3"
  },
  "language_info": {
   "codemirror_mode": {
    "name": "ipython",
    "version": 3
   },
   "file_extension": ".py",
   "mimetype": "text/x-python",
   "name": "python",
   "nbconvert_exporter": "python",
   "pygments_lexer": "ipython3",
   "version": "3.7.1 (default, Dec 10 2018, 22:54:23) [MSC v.1915 64 bit (AMD64)]"
  },
  "vscode": {
   "interpreter": {
    "hash": "25d9809f249503c706ec8256bff3e6092921226b2366b78b67c968e9f7b37a46"
   }
  }
 },
 "nbformat": 4,
 "nbformat_minor": 4
}
